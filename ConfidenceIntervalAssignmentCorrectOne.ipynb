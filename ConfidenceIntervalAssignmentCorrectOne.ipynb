{
 "cells": [
  {
   "cell_type": "code",
   "execution_count": 11,
   "id": "c9bc644f-badb-4443-88ad-afd1784859f0",
   "metadata": {},
   "outputs": [],
   "source": [
    "# Importing stats from scipy \n",
    "import numpy as np\n",
    "from scipy import stats "
   ]
  },
  {
   "cell_type": "code",
   "execution_count": 12,
   "id": "aa5ebf18-1603-4a0c-872c-39f662554a91",
   "metadata": {},
   "outputs": [],
   "source": [
    "# Sample data\n",
    "#Creates a NumPy array from the given data.\n",
    "\n",
    "data = [1.13, 1.55, 1.43, 0.92, 1.25, 1.36, 1.32, 0.85, 1.07, 1.48, 1.20, 1.33, 1.18, 1.22, 1.29]"
   ]
  },
  {
   "cell_type": "code",
   "execution_count": 13,
   "id": "4a671893-92a5-4c8b-8b72-0c0321f31189",
   "metadata": {},
   "outputs": [],
   "source": [
    "# Task a: 99% Confidence Interval using Sample Standard Deviation (t-distribution)\n",
    "def confidence_interval_t(data, confidence=0.99):\n",
    "    x_bar = np.mean(data)\n",
    "    s = np.std(data, ddof=1)\n",
    "    n = len(data)\n",
    "    df = n - 1\n",
    "    t_crit = stats.t.ppf((1 + confidence) / 2, df)\n",
    "    margin_error = t_crit * (s / np.sqrt(n))\n",
    "    lower_bound = x_bar - margin_error\n",
    "    upper_bound = x_bar + margin_error\n",
    "    return lower_bound, upper_bound"
   ]
  },
  {
   "cell_type": "code",
   "execution_count": 14,
   "id": "32d64dc9-e774-4e3f-9938-1569cc0cd2c9",
   "metadata": {},
   "outputs": [
    {
     "name": "stdout",
     "output_type": "stream",
     "text": [
      "99% Confidence Interval using Sample Standard Deviation (t-distribution): (1.0901973384384906, 1.3871359948948425)\n"
     ]
    }
   ],
   "source": [
    "\n",
    "lower_bound_t, upper_bound_t = confidence_interval_t(data)\n",
    "print(\"99% Confidence Interval using Sample Standard Deviation (t-distribution): ({}, {})\".format(lower_bound_t, upper_bound_t))"
   ]
  },
  {
   "cell_type": "code",
   "execution_count": 15,
   "id": "645bbb5d-67fc-49b4-a320-5536f006bfbf",
   "metadata": {},
   "outputs": [
    {
     "name": "stdout",
     "output_type": "stream",
     "text": [
      "99% Confidence Interval using Known Population Standard Deviation(Z-distribution): (1.1056514133957607, 1.3716819199375725)\n"
     ]
    }
   ],
   "source": [
    "# Task b: 99% Confidence Interval using Known Population Standard Deviation (Z-distribution)\n",
    "def confidence_interval_z(data, sigma, confidence=0.99):\n",
    "    x_bar = np.mean(data)\n",
    "    n = len(data)\n",
    "    z_crit = stats.norm.ppf((1 + confidence) / 2)\n",
    "    margin_error = z_crit * (sigma / np.sqrt(n))\n",
    "    lower_bound = x_bar - margin_error\n",
    "    upper_bound = x_bar + margin_error\n",
    "    return lower_bound, upper_bound\n",
    "\n",
    "# Assuming population standard deviation (sigma) = 0.2\n",
    "sigma = 0.2\n",
    "lower_bound_z, upper_bound_z = confidence_interval_z(data, sigma)\n",
    "print(\"99% Confidence Interval using Known Population Standard Deviation(Z-distribution): ({}, {})\".format(lower_bound_z, upper_bound_z))"
   ]
  },
  {
   "cell_type": "code",
   "execution_count": null,
   "id": "716b3edd-6490-43dc-949d-b059f8221e74",
   "metadata": {},
   "outputs": [],
   "source": []
  }
 ],
 "metadata": {
  "kernelspec": {
   "display_name": "Python 3 (ipykernel)",
   "language": "python",
   "name": "python3"
  },
  "language_info": {
   "codemirror_mode": {
    "name": "ipython",
    "version": 3
   },
   "file_extension": ".py",
   "mimetype": "text/x-python",
   "name": "python",
   "nbconvert_exporter": "python",
   "pygments_lexer": "ipython3",
   "version": "3.12.4"
  }
 },
 "nbformat": 4,
 "nbformat_minor": 5
}
