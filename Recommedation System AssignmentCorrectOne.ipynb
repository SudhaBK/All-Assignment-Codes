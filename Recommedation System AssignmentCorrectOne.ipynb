{
 "cells": [
  {
   "cell_type": "markdown",
   "id": "c8bc4db8-558c-4913-a231-45cf161c0f29",
   "metadata": {},
   "source": [
    "## Assignment of Recommedaton Systems :"
   ]
  },
  {
   "cell_type": "markdown",
   "id": "d69e97dd-76a8-4e7a-9024-41c08a06503b",
   "metadata": {},
   "source": [
    "### Task 1: Data Preprocessing"
   ]
  },
  {
   "cell_type": "code",
   "execution_count": 77,
   "id": "fa0de562-ed5d-4b31-959f-cebf86fa440d",
   "metadata": {},
   "outputs": [
    {
     "name": "stdout",
     "output_type": "stream",
     "text": [
      "Dataset Loaded.\n",
      "   anime_id                              name  \\\n",
      "0     32281                    Kimi no Na wa.   \n",
      "1      5114  Fullmetal Alchemist: Brotherhood   \n",
      "2     28977                          Gintama°   \n",
      "3      9253                       Steins;Gate   \n",
      "4      9969                     Gintama&#039;   \n",
      "\n",
      "                                               genre   type episodes  rating  \\\n",
      "0               Drama, Romance, School, Supernatural  Movie        1    9.37   \n",
      "1  Action, Adventure, Drama, Fantasy, Magic, Mili...     TV       64    9.26   \n",
      "2  Action, Comedy, Historical, Parody, Samurai, S...     TV       51    9.25   \n",
      "3                                   Sci-Fi, Thriller     TV       24    9.17   \n",
      "4  Action, Comedy, Historical, Parody, Samurai, S...     TV       51    9.16   \n",
      "\n",
      "   members  \n",
      "0   200630  \n",
      "1   793665  \n",
      "2   114262  \n",
      "3   673572  \n",
      "4   151266  \n"
     ]
    }
   ],
   "source": [
    "# Import necessary libraries\n",
    "import pandas as pd\n",
    "import numpy as np\n",
    "\n",
    "# Step 1: Load the Dataset\n",
    "anime_df = pd.read_csv('anime.csv')\n",
    "print(\"Dataset Loaded.\")\n",
    "print(anime_df.head())\n"
   ]
  },
  {
   "cell_type": "code",
   "execution_count": 78,
   "id": "96e99b21-29e7-4f14-bca6-456c9d1e097d",
   "metadata": {},
   "outputs": [
    {
     "name": "stdout",
     "output_type": "stream",
     "text": [
      "\n",
      "Missing Values:\n",
      "anime_id      0\n",
      "name          0\n",
      "genre        62\n",
      "type         25\n",
      "episodes      0\n",
      "rating      230\n",
      "members       0\n",
      "dtype: int64\n"
     ]
    }
   ],
   "source": [
    "# Step 2: Handle Missing Values\n",
    "print(\"\\nMissing Values:\")\n",
    "print(anime_df.isnull().sum())\n",
    "\n",
    "\n"
   ]
  },
  {
   "cell_type": "code",
   "execution_count": 79,
   "id": "4a881504-5b7b-4f7c-b3c0-6fddc085716d",
   "metadata": {},
   "outputs": [
    {
     "name": "stdout",
     "output_type": "stream",
     "text": [
      "\n",
      "Missing Values After Dropping:\n",
      "anime_id    0\n",
      "name        0\n",
      "genre       0\n",
      "type        0\n",
      "episodes    0\n",
      "rating      0\n",
      "members     0\n",
      "dtype: int64\n"
     ]
    }
   ],
   "source": [
    "anime_df.dropna(inplace=True)\n",
    "print(\"\\nMissing Values After Dropping:\")\n",
    "print(anime_df.isnull().sum())"
   ]
  },
  {
   "cell_type": "code",
   "execution_count": 80,
   "id": "960462cb-9908-4d57-905b-f10f512fb76f",
   "metadata": {},
   "outputs": [
    {
     "name": "stdout",
     "output_type": "stream",
     "text": [
      "\n",
      "Dataset Shape: (12017, 7)\n"
     ]
    }
   ],
   "source": [
    "# Step 3: Explore the Dataset\n",
    "print(\"\\nDataset Shape:\", anime_df.shape)\n"
   ]
  },
  {
   "cell_type": "code",
   "execution_count": 81,
   "id": "718be9b3-5db3-4efb-af55-a30d8200b17a",
   "metadata": {},
   "outputs": [
    {
     "name": "stdout",
     "output_type": "stream",
     "text": [
      "Column Names: Index(['anime_id', 'name', 'genre', 'type', 'episodes', 'rating', 'members'], dtype='object')\n"
     ]
    }
   ],
   "source": [
    "print(\"Column Names:\", anime_df.columns)\n"
   ]
  },
  {
   "cell_type": "code",
   "execution_count": 82,
   "id": "231d407e-b119-4e7e-bb8f-8b7c193c975b",
   "metadata": {},
   "outputs": [
    {
     "name": "stdout",
     "output_type": "stream",
     "text": [
      "\n",
      "Data Types:\n",
      " anime_id      int64\n",
      "name         object\n",
      "genre        object\n",
      "type         object\n",
      "episodes     object\n",
      "rating      float64\n",
      "members       int64\n",
      "dtype: object\n"
     ]
    }
   ],
   "source": [
    "print(\"\\nData Types:\\n\", anime_df.dtypes)"
   ]
  },
  {
   "cell_type": "code",
   "execution_count": 83,
   "id": "abd97007-0cae-4a64-8849-1d152e652f28",
   "metadata": {},
   "outputs": [
    {
     "name": "stdout",
     "output_type": "stream",
     "text": [
      "\n",
      "Summary Statistics:\n",
      "            anime_id        rating       members\n",
      "count  12017.000000  12017.000000  1.201700e+04\n",
      "mean   13638.001165      6.478264  1.834888e+04\n",
      "std    11231.076675      1.023857  5.537250e+04\n",
      "min        1.000000      1.670000  1.200000e+01\n",
      "25%     3391.000000      5.890000  2.250000e+02\n",
      "50%     9959.000000      6.570000  1.552000e+03\n",
      "75%    23729.000000      7.180000  9.588000e+03\n",
      "max    34519.000000     10.000000  1.013917e+06\n"
     ]
    }
   ],
   "source": [
    "print(\"\\nSummary Statistics:\\n\", anime_df.describe())\n"
   ]
  },
  {
   "cell_type": "code",
   "execution_count": 84,
   "id": "86f2f9ad-52b3-4ff4-8bf0-d55aa33d2f75",
   "metadata": {},
   "outputs": [
    {
     "name": "stdout",
     "output_type": "stream",
     "text": [
      "\n",
      "Unique Values for 'type': ['Movie' 'TV' 'OVA' 'Special' 'Music' 'ONA']\n"
     ]
    }
   ],
   "source": [
    "# Unique values for categorical columns\n",
    "print(\"\\nUnique Values for 'type':\", anime_df['type'].unique())\n"
   ]
  },
  {
   "cell_type": "code",
   "execution_count": 85,
   "id": "2a8b8590-1c54-4fb9-9995-7139ff818476",
   "metadata": {},
   "outputs": [
    {
     "name": "stdout",
     "output_type": "stream",
     "text": [
      "Unique Values for 'genre': ['Drama, Romance, School, Supernatural'\n",
      " 'Action, Adventure, Drama, Fantasy, Magic, Military, Shounen'\n",
      " 'Action, Comedy, Historical, Parody, Samurai, Sci-Fi, Shounen' ...\n",
      " 'Action, Comedy, Hentai, Romance, Supernatural' 'Hentai, Sports'\n",
      " 'Hentai, Slice of Life']\n"
     ]
    }
   ],
   "source": [
    "print(\"Unique Values for 'genre':\", anime_df['genre'].unique())"
   ]
  },
  {
   "cell_type": "code",
   "execution_count": 86,
   "id": "2d77503c-7b10-4683-bbc3-30c443246ddd",
   "metadata": {},
   "outputs": [
    {
     "name": "stdout",
     "output_type": "stream",
     "text": [
      "\n",
      "Genre Distribution:\n",
      "genre\n",
      "Hentai                   816\n",
      "Comedy                   521\n",
      "Music                    297\n",
      "Kids                     197\n",
      "Comedy, Slice of Life    174\n",
      "Dementia                 137\n",
      "Fantasy, Kids            128\n",
      "Comedy, Kids             112\n",
      "Fantasy                  110\n",
      "Drama, Kids              105\n",
      "Name: count, dtype: int64\n"
     ]
    }
   ],
   "source": [
    "# Additional exploration\n",
    "print(\"\\nGenre Distribution:\")\n",
    "print(anime_df['genre'].value_counts().head(10))\n"
   ]
  },
  {
   "cell_type": "code",
   "execution_count": 87,
   "id": "a9cf48c4-5dbf-4f69-830b-75ca00ed1f64",
   "metadata": {},
   "outputs": [
    {
     "name": "stdout",
     "output_type": "stream",
     "text": [
      "\n",
      "Rating Distribution:\n",
      "rating\n",
      "6.00    141\n",
      "7.00     98\n",
      "6.50     90\n",
      "6.25     84\n",
      "5.00     76\n",
      "6.75     72\n",
      "6.67     68\n",
      "6.38     67\n",
      "6.80     67\n",
      "5.67     66\n",
      "Name: count, dtype: int64\n"
     ]
    }
   ],
   "source": [
    "print(\"\\nRating Distribution:\")\n",
    "print(anime_df['rating'].value_counts().head(10))"
   ]
  },
  {
   "cell_type": "markdown",
   "id": "ebe39541-17ab-4ec5-8587-3dfdab796fcf",
   "metadata": {},
   "source": [
    "## Task 2:Feature Extraction:\n"
   ]
  },
  {
   "cell_type": "code",
   "execution_count": 89,
   "id": "e3c4ff3d-0a91-4167-8558-778f6acaea4f",
   "metadata": {},
   "outputs": [],
   "source": [
    "# Import necessary libraries\n",
    "import pandas as pd\n",
    "from sklearn.feature_extraction.text import TfidfVectorizer\n",
    "from sklearn.preprocessing import LabelEncoder, StandardScaler\n",
    "\n",
    "# Load preprocessed dataset\n",
    "anime_df = pd.read_csv('anime.csv')\n",
    "\n"
   ]
  },
  {
   "cell_type": "code",
   "execution_count": 90,
   "id": "6955bc04-ac4e-4f86-87c6-ac86af9c49d0",
   "metadata": {},
   "outputs": [
    {
     "name": "stdout",
     "output_type": "stream",
     "text": [
      "       anime_id                                               name  \\\n",
      "0         32281                                     Kimi no Na wa.   \n",
      "1          5114                   Fullmetal Alchemist: Brotherhood   \n",
      "2         28977                                           Gintama°   \n",
      "3          9253                                        Steins;Gate   \n",
      "4          9969                                      Gintama&#039;   \n",
      "...         ...                                                ...   \n",
      "12289      9316       Toushindai My Lover: Minami tai Mecha-Minami   \n",
      "12290      5543                                        Under World   \n",
      "12291      5621                     Violence Gekiga David no Hoshi   \n",
      "12292      6133  Violence Gekiga Shin David no Hoshi: Inma Dens...   \n",
      "12293     26081                   Yasuji no Pornorama: Yacchimae!!   \n",
      "\n",
      "                                                   genre   type episodes  \\\n",
      "0                   Drama, Romance, School, Supernatural  Movie        1   \n",
      "1      Action, Adventure, Drama, Fantasy, Magic, Mili...     TV       64   \n",
      "2      Action, Comedy, Historical, Parody, Samurai, S...     TV       51   \n",
      "3                                       Sci-Fi, Thriller     TV       24   \n",
      "4      Action, Comedy, Historical, Parody, Samurai, S...     TV       51   \n",
      "...                                                  ...    ...      ...   \n",
      "12289                                             Hentai    OVA        1   \n",
      "12290                                             Hentai    OVA        1   \n",
      "12291                                             Hentai    OVA        4   \n",
      "12292                                             Hentai    OVA        1   \n",
      "12293                                             Hentai  Movie        1   \n",
      "\n",
      "       rating  members  \n",
      "0        9.37   200630  \n",
      "1        9.26   793665  \n",
      "2        9.25   114262  \n",
      "3        9.17   673572  \n",
      "4        9.16   151266  \n",
      "...       ...      ...  \n",
      "12289    4.15      211  \n",
      "12290    4.28      183  \n",
      "12291    4.88      219  \n",
      "12292    4.98      175  \n",
      "12293    5.46      142  \n",
      "\n",
      "[12294 rows x 7 columns]\n"
     ]
    }
   ],
   "source": [
    "# Handle missing values in 'genre' column\n",
    "anime_df['genre'] = anime_df['genre'].fillna('Unknown')\n",
    "print(anime_df)\n"
   ]
  },
  {
   "cell_type": "code",
   "execution_count": 91,
   "id": "ae28bd21-a8a9-4297-9f4d-3f6c1224e0dc",
   "metadata": {},
   "outputs": [],
   "source": [
    "# Convert non-numerical values in 'rating' and 'episodes' to NaN\n",
    "anime_df['rating'] = pd.to_numeric(anime_df['rating'], errors='coerce')\n",
    "anime_df['episodes'] = pd.to_numeric(anime_df['episodes'], errors='coerce')\n",
    "\n"
   ]
  },
  {
   "cell_type": "code",
   "execution_count": 92,
   "id": "09610993-8a9d-4e25-bead-69bf3d654afe",
   "metadata": {},
   "outputs": [
    {
     "name": "stdout",
     "output_type": "stream",
     "text": [
      "       anime_id                                               name  \\\n",
      "0         32281                                     Kimi no Na wa.   \n",
      "1          5114                   Fullmetal Alchemist: Brotherhood   \n",
      "2         28977                                           Gintama°   \n",
      "3          9253                                        Steins;Gate   \n",
      "4          9969                                      Gintama&#039;   \n",
      "...         ...                                                ...   \n",
      "12289      9316       Toushindai My Lover: Minami tai Mecha-Minami   \n",
      "12290      5543                                        Under World   \n",
      "12291      5621                     Violence Gekiga David no Hoshi   \n",
      "12292      6133  Violence Gekiga Shin David no Hoshi: Inma Dens...   \n",
      "12293     26081                   Yasuji no Pornorama: Yacchimae!!   \n",
      "\n",
      "                                                   genre   type  episodes  \\\n",
      "0                   Drama, Romance, School, Supernatural  Movie       1.0   \n",
      "1      Action, Adventure, Drama, Fantasy, Magic, Mili...     TV      64.0   \n",
      "2      Action, Comedy, Historical, Parody, Samurai, S...     TV      51.0   \n",
      "3                                       Sci-Fi, Thriller     TV      24.0   \n",
      "4      Action, Comedy, Historical, Parody, Samurai, S...     TV      51.0   \n",
      "...                                                  ...    ...       ...   \n",
      "12289                                             Hentai    OVA       1.0   \n",
      "12290                                             Hentai    OVA       1.0   \n",
      "12291                                             Hentai    OVA       4.0   \n",
      "12292                                             Hentai    OVA       1.0   \n",
      "12293                                             Hentai  Movie       1.0   \n",
      "\n",
      "       rating  members  \n",
      "0        9.37   200630  \n",
      "1        9.26   793665  \n",
      "2        9.25   114262  \n",
      "3        9.17   673572  \n",
      "4        9.16   151266  \n",
      "...       ...      ...  \n",
      "12289    4.15      211  \n",
      "12290    4.28      183  \n",
      "12291    4.88      219  \n",
      "12292    4.98      175  \n",
      "12293    5.46      142  \n",
      "\n",
      "[11876 rows x 7 columns]\n"
     ]
    }
   ],
   "source": [
    "# Drop rows with NaN values in 'rating' or 'episodes'\n",
    "anime_df = anime_df.dropna(subset=['rating', 'episodes'])\n",
    "print(anime_df)"
   ]
  },
  {
   "cell_type": "code",
   "execution_count": 93,
   "id": "7eac8dc8-ecb0-49ce-8af7-9de41e8f0be4",
   "metadata": {},
   "outputs": [],
   "source": [
    "# Decide on features for similarity computation\n",
    "features = ['genre', 'rating', 'episodes']\n",
    "\n"
   ]
  },
  {
   "cell_type": "code",
   "execution_count": 94,
   "id": "0362674f-34c8-4bd7-9a63-ec2c7361d6d9",
   "metadata": {},
   "outputs": [],
   "source": [
    "# Convert categorical 'genre' to numerical representation using TF-IDF\n",
    "vectorizer = TfidfVectorizer(stop_words='english')\n",
    "genre_tfidf = vectorizer.fit_transform(anime_df['genre'])\n",
    "\n"
   ]
  },
  {
   "cell_type": "code",
   "execution_count": 95,
   "id": "8515cb48-51da-4e99-9776-e92beae8f12a",
   "metadata": {},
   "outputs": [],
   "source": [
    "# Convert categorical 'type' to numerical representation using LabelEncoder\n",
    "le = LabelEncoder()\n",
    "anime_df['type_encoded'] = le.fit_transform(anime_df['type'])\n",
    "\n"
   ]
  },
  {
   "cell_type": "code",
   "execution_count": 96,
   "id": "37ee814b-9751-4c25-8c25-b2558c73c883",
   "metadata": {},
   "outputs": [],
   "source": [
    "# Create a new dataframe with the selected features\n",
    "anime_features = pd.DataFrame.sparse.from_spmatrix(genre_tfidf).add_prefix('genre_')\n",
    "anime_features['rating'] = anime_df['rating']\n",
    "anime_features['episodes'] = anime_df['episodes']\n",
    "anime_features['type_encoded'] = anime_df['type_encoded']\n"
   ]
  },
  {
   "cell_type": "code",
   "execution_count": 97,
   "id": "e70342ae-b696-4101-9864-0a400ffef5fc",
   "metadata": {},
   "outputs": [
    {
     "name": "stdout",
     "output_type": "stream",
     "text": [
      "       anime_id                                               name  \\\n",
      "0         32281                                     Kimi no Na wa.   \n",
      "1          5114                   Fullmetal Alchemist: Brotherhood   \n",
      "2         28977                                           Gintama°   \n",
      "3          9253                                        Steins;Gate   \n",
      "4          9969                                      Gintama&#039;   \n",
      "...         ...                                                ...   \n",
      "12289      9316       Toushindai My Lover: Minami tai Mecha-Minami   \n",
      "12290      5543                                        Under World   \n",
      "12291      5621                     Violence Gekiga David no Hoshi   \n",
      "12292      6133  Violence Gekiga Shin David no Hoshi: Inma Dens...   \n",
      "12293     26081                   Yasuji no Pornorama: Yacchimae!!   \n",
      "\n",
      "                                                   genre   type  episodes  \\\n",
      "0                   Drama, Romance, School, Supernatural  Movie       1.0   \n",
      "1      Action, Adventure, Drama, Fantasy, Magic, Mili...     TV      64.0   \n",
      "2      Action, Comedy, Historical, Parody, Samurai, S...     TV      51.0   \n",
      "3                                       Sci-Fi, Thriller     TV      24.0   \n",
      "4      Action, Comedy, Historical, Parody, Samurai, S...     TV      51.0   \n",
      "...                                                  ...    ...       ...   \n",
      "12289                                             Hentai    OVA       1.0   \n",
      "12290                                             Hentai    OVA       1.0   \n",
      "12291                                             Hentai    OVA       4.0   \n",
      "12292                                             Hentai    OVA       1.0   \n",
      "12293                                             Hentai  Movie       1.0   \n",
      "\n",
      "       rating  members  type_encoded  \n",
      "0        9.37   200630             0  \n",
      "1        9.26   793665             5  \n",
      "2        9.25   114262             5  \n",
      "3        9.17   673572             5  \n",
      "4        9.16   151266             5  \n",
      "...       ...      ...           ...  \n",
      "12289    4.15      211             3  \n",
      "12290    4.28      183             3  \n",
      "12291    4.88      219             3  \n",
      "12292    4.98      175             3  \n",
      "12293    5.46      142             0  \n",
      "\n",
      "[11876 rows x 8 columns]\n"
     ]
    }
   ],
   "source": [
    "# Separate numerical features\n",
    "numerical_features = anime_df[['rating', 'episodes']]\n",
    "\n",
    "print(anime_df)"
   ]
  },
  {
   "cell_type": "code",
   "execution_count": 98,
   "id": "e5285958-e232-404e-b8b5-9786e9777dae",
   "metadata": {},
   "outputs": [],
   "source": [
    "# Scale numerical features using StandardScaler\n",
    "scaler = StandardScaler()\n",
    "scaled_numerical_features = scaler.fit_transform(numerical_features)\n",
    "\n"
   ]
  },
  {
   "cell_type": "code",
   "execution_count": 99,
   "id": "de2ba9f2-356b-41ee-8baa-7b0e3c490b7b",
   "metadata": {},
   "outputs": [
    {
     "name": "stdout",
     "output_type": "stream",
     "text": [
      "Feature Extraction Complete.\n",
      "    genre_0   genre_1  genre_2  genre_3  genre_4  genre_5  genre_6  genre_7  \\\n",
      "0         0         0        0        0        0        0        0        0   \n",
      "1  0.294928  0.316591        0        0        0        0        0        0   \n",
      "2  0.251292         0        0        0        0  0.20138        0        0   \n",
      "3         0         0        0        0        0        0        0        0   \n",
      "4  0.251292         0        0        0        0  0.20138        0        0   \n",
      "\n",
      "    genre_8  genre_9  ...  genre_40  genre_41  genre_42  genre_43  genre_44  \\\n",
      "0  0.438406        0  ...         0  0.545939         0         0         0   \n",
      "1  0.334639        0  ...         0         0         0         0         0   \n",
      "2         0        0  ...         0         0         0         0         0   \n",
      "3         0        0  ...         0         0  0.834067         0         0   \n",
      "4         0        0  ...         0         0         0         0         0   \n",
      "\n",
      "   genre_45  genre_46    rating  episodes  type_encoded  \n",
      "0         0         0  2.827596 -0.243512           0.0  \n",
      "1         0         0  2.719959  1.096654           5.0  \n",
      "2         0         0  2.710174  0.820112           5.0  \n",
      "3         0         0  2.631892  0.245755           5.0  \n",
      "4         0         0  2.622107  0.820112           5.0  \n",
      "\n",
      "[5 rows x 50 columns]\n"
     ]
    }
   ],
   "source": [
    "# Update anime_features with scaled numerical features\n",
    "anime_features[['rating', 'episodes']] = scaled_numerical_features\n",
    "\n",
    "print(\"Feature Extraction Complete.\")\n",
    "print(anime_features.head())"
   ]
  },
  {
   "cell_type": "markdown",
   "id": "9165f165-c41d-49d0-a7fa-92e179809809",
   "metadata": {},
   "source": [
    "## Task 3: Recommendation System:"
   ]
  },
  {
   "cell_type": "code",
   "execution_count": 101,
   "id": "681fad48-b680-475e-85a1-f2927c0b5763",
   "metadata": {},
   "outputs": [],
   "source": [
    "# Import necessary libraries\n",
    "import pandas as pd\n",
    "import numpy as np\n",
    "from sklearn.metrics.pairwise import cosine_similarity\n",
    "from sklearn.impute import SimpleImputer\n",
    "from sklearn.feature_extraction.text import TfidfVectorizer\n",
    "from sklearn.preprocessing import LabelEncoder, StandardScaler\n",
    "import warnings\n",
    "warnings.filterwarnings(\"ignore\")\n",
    "\n",
    "\n",
    "# Load preprocessed dataset\n",
    "anime_df = pd.read_csv('anime.csv')\n",
    "\n"
   ]
  },
  {
   "cell_type": "code",
   "execution_count": 102,
   "id": "e8ad4fe6-a3da-4372-95d3-2fe966582a7d",
   "metadata": {},
   "outputs": [],
   "source": [
    "# Handle missing values in 'genre' column\n",
    "anime_df['genre'] = anime_df['genre'].fillna('Unknown')\n",
    "\n",
    "# Convert non-numerical values in 'rating' and 'episodes' to NaN\n",
    "anime_df['rating'] = pd.to_numeric(anime_df['rating'], errors='coerce')\n",
    "anime_df['episodes'] = pd.to_numeric(anime_df['episodes'], errors='coerce')\n"
   ]
  },
  {
   "cell_type": "code",
   "execution_count": 103,
   "id": "f578886d-19a6-4a7e-b455-875dc6b049f4",
   "metadata": {},
   "outputs": [],
   "source": [
    "# Drop rows with NaN values in 'rating' or 'episodes'\n",
    "anime_df = anime_df.dropna(subset=['rating', 'episodes'])\n",
    "\n",
    "# Decide on features for similarity computation\n",
    "features = ['genre', 'rating', 'episodes']\n",
    "\n",
    "# Convert categorical 'genre' to numerical representation using TF-IDF\n",
    "vectorizer = TfidfVectorizer(stop_words='english')\n",
    "genre_tfidf = vectorizer.fit_transform(anime_df['genre'])\n",
    "\n",
    "# Convert categorical 'type' to numerical representation using LabelEncoder\n",
    "le = LabelEncoder()\n",
    "anime_df['type_encoded'] = le.fit_transform(anime_df['type'])\n"
   ]
  },
  {
   "cell_type": "code",
   "execution_count": 104,
   "id": "b737914e-d7b3-4bd7-8b25-414ecb897eed",
   "metadata": {},
   "outputs": [],
   "source": [
    "# Create a new dataframe with the selected features\n",
    "anime_features = pd.DataFrame.sparse.from_spmatrix(genre_tfidf).add_prefix('genre_')\n",
    "anime_features['rating'] = anime_df['rating']\n",
    "anime_features['episodes'] = anime_df['episodes']\n",
    "anime_features['type_encoded'] = anime_df['type_encoded']\n"
   ]
  },
  {
   "cell_type": "code",
   "execution_count": 105,
   "id": "a8ddcffe-8aec-4e9d-affa-7e569b002d44",
   "metadata": {},
   "outputs": [],
   "source": [
    "# Scale numerical features using StandardScaler\n",
    "scaler = StandardScaler()\n",
    "scaled_numerical_features = scaler.fit_transform(anime_df[['rating', 'episodes']])\n",
    "anime_features[['rating', 'episodes']] = scaled_numerical_features\n",
    "\n",
    "\n",
    "# Check for NaN values and replace with mean\n",
    "imputer = SimpleImputer(strategy='mean')\n",
    "anime_features = pd.DataFrame(imputer.fit_transform(anime_features), columns=anime_features.columns)\n"
   ]
  },
  {
   "cell_type": "code",
   "execution_count": 106,
   "id": "feebbe6c-c795-4b1a-a886-6a9f9dcabfe1",
   "metadata": {},
   "outputs": [],
   "source": [
    "# Calculate cosine similarity matrix\n",
    "cosine_sim = cosine_similarity(anime_features)\n",
    "\n",
    "\n",
    "def recommend_anime(anime_id, num_recommendations=5, threshold=0.5):\n",
    "    \"\"\"\n",
    "    Recommend anime based on cosine similarity.\n",
    "\n",
    "    Parameters:\n",
    "    anime_id (int): Target anime ID.\n",
    "    num_recommendations (int, optional): Number of recommendations. Defaults to 5.\n",
    "    threshold (float, optional): Minimum similarity score. Defaults to 0.5.\n",
    "\n",
    "    Returns:\n",
    "    list: Recommended anime IDs.\n",
    "    \"\"\"\n",
    "    # Get the anime's similarity scores\n",
    "    similarity_scores = cosine_sim[anime_id]\n",
    "    \n",
    "    # Exclude the anime itself\n",
    "    similarity_scores[anime_id] = 0\n",
    "    \n",
    "    # Get the top N similar anime IDs above the threshold\n",
    "    top_similar_ids = np.argsort(-similarity_scores)[similarity_scores > threshold][:num_recommendations]\n",
    "    \n",
    "    # Return the recommended anime IDs\n",
    "    return top_similar_ids\n"
   ]
  },
  {
   "cell_type": "code",
   "execution_count": 107,
   "id": "6324b6e4-bf48-4020-b253-fb4cc6a5e980",
   "metadata": {},
   "outputs": [
    {
     "name": "stdout",
     "output_type": "stream",
     "text": [
      "Threshold: 0.3, Recommended Anime IDs: [ 15  25  11 399  35]\n",
      "Threshold: 0.5, Recommended Anime IDs: [  611   460 10319   209   194]\n",
      "Threshold: 0.7, Recommended Anime IDs: [  460 10319   209   194  8098]\n"
     ]
    }
   ],
   "source": [
    "# Test the recommendation function\n",
    "anime_id = 0  # Replace with the desired anime ID\n",
    "threshold_values = [0.3, 0.5, 0.7]  # Experiment with different thresholds\n",
    "\n",
    "for threshold in threshold_values:\n",
    "    recommended_anime_ids = recommend_anime(anime_id, threshold=threshold)\n",
    "    print(f\"Threshold: {threshold}, Recommended Anime IDs: {recommended_anime_ids}\")\n",
    "\n"
   ]
  },
  {
   "cell_type": "code",
   "execution_count": 108,
   "id": "e11b0405-a2ca-4374-956b-a162b4726d18",
   "metadata": {},
   "outputs": [
    {
     "name": "stdout",
     "output_type": "stream",
     "text": [
      "Recommended Anime Titles:\n",
      "462                         Nekomonogatari: Kuro\n",
      "10464    Taka no Tsume 8: Yoshida-kun no X-Files\n",
      "210                              Nagi no Asukara\n",
      "195                                 Sennen Joyuu\n",
      "8152         Aoyo, Kaette Koi: Tokyo Dai Kuushuu\n",
      "Name: name, dtype: object\n"
     ]
    }
   ],
   "source": [
    "# Get anime titles for recommended IDs\n",
    "recommended_anime_titles = anime_df.iloc[recommended_anime_ids]['name']\n",
    "\n",
    "print(\"Recommended Anime Titles:\")\n",
    "print(recommended_anime_titles)"
   ]
  },
  {
   "cell_type": "markdown",
   "id": "f60a73c0-6580-46e0-b644-b3a196d2a726",
   "metadata": {},
   "source": [
    "## Task 4: Evaluation"
   ]
  },
  {
   "cell_type": "code",
   "execution_count": 110,
   "id": "b331dca4-4903-413c-b14a-3bef3d684501",
   "metadata": {},
   "outputs": [],
   "source": [
    "def evaluate_recommendation(anime_id, num_recommendations=5, threshold=0.5):\n",
    "    # Get recommended anime IDs\n",
    "    recommended_anime_ids = recommend_anime(anime_id, num_recommendations, threshold)\n",
    "    \n",
    "    # Filter out-of-bounds indices\n",
    "    recommended_anime_ids = [id for id in recommended_anime_ids if id < len(test_anime_labels)]\n",
    "    \n",
    "    # Get true labels (anime names)\n",
    "    true_labels = test_anime_labels.iloc[recommended_anime_ids]\n",
    "    \n",
    "    # Get predicted labels (recommended anime names)\n",
    "    predicted_labels = test_anime_labels.iloc[recommended_anime_ids]\n",
    "    \n",
    "    # Calculate precision, recall, and F1-score\n",
    "    precision = precision_score(true_labels, predicted_labels, average='macro')\n",
    "    recall = recall_score(true_labels, predicted_labels, average='macro')\n",
    "    f1 = f1_score(true_labels, predicted_labels, average='macro')\n",
    "    \n",
    "    return precision, recall, f1\n"
   ]
  },
  {
   "cell_type": "code",
   "execution_count": 111,
   "id": "209b1534-d4c4-4b84-8f2f-81d4f24b7720",
   "metadata": {},
   "outputs": [
    {
     "name": "stdout",
     "output_type": "stream",
     "text": [
      "Threshold: 0.3, Error: name 'test_anime_labels' is not defined\n",
      "Threshold: 0.5, Error: name 'test_anime_labels' is not defined\n",
      "Threshold: 0.7, Error: name 'test_anime_labels' is not defined\n"
     ]
    }
   ],
   "source": [
    "# Evaluate recommendation system\n",
    "anime_id = 0  # Replace with the desired anime ID\n",
    "threshold_values = [0.3, 0.5, 0.7]  # Experiment with different thresholds\n",
    "num_recommendations = 5\n",
    "\n",
    "for threshold in threshold_values:\n",
    "    try:\n",
    "        precision, recall, f1 = evaluate_recommendation(anime_id, num_recommendations, threshold)\n",
    "        print(f\"Threshold: {threshold}, Precision: {precision:.4f}, Recall: {recall:.4f}, F1-score: {f1:.4f}\")\n",
    "    except Exception as e:\n",
    "        print(f\"Threshold: {threshold}, Error: {str(e)}\")"
   ]
  },
  {
   "cell_type": "code",
   "execution_count": null,
   "id": "ee502150-99c4-46a6-a55a-182ac5dea53d",
   "metadata": {},
   "outputs": [],
   "source": []
  }
 ],
 "metadata": {
  "kernelspec": {
   "display_name": "Python 3 (ipykernel)",
   "language": "python",
   "name": "python3"
  },
  "language_info": {
   "codemirror_mode": {
    "name": "ipython",
    "version": 3
   },
   "file_extension": ".py",
   "mimetype": "text/x-python",
   "name": "python",
   "nbconvert_exporter": "python",
   "pygments_lexer": "ipython3",
   "version": "3.12.4"
  }
 },
 "nbformat": 4,
 "nbformat_minor": 5
}
