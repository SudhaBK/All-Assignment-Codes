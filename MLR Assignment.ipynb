{
 "cells": [
  {
   "cell_type": "markdown",
   "id": "e8f5509b-dba0-419c-b69d-98fd26434c54",
   "metadata": {},
   "source": [
    "### Assignmnet on MLR Model : Task 1: Exploratory Data Analysis (EDA)\n",
    "### Import necessary libraries"
   ]
  },
  {
   "cell_type": "code",
   "execution_count": 9,
   "id": "716b075b-ac67-4466-9438-7236a9dc3fca",
   "metadata": {},
   "outputs": [],
   "source": [
    "import pandas as pd\n",
    "import seaborn as sns\n",
    "import matplotlib.pyplot as plt\n",
    "from statsmodels.graphics.regressionplots import influence_plot\n",
    "import statsmodels.formula.api as smf\n",
    "import numpy as np"
   ]
  },
  {
   "cell_type": "markdown",
   "id": "df71be66-74ce-4ec5-ba27-e17dd496d6f8",
   "metadata": {},
   "source": [
    "### Load the dataset into notebook "
   ]
  },
  {
   "cell_type": "code",
   "execution_count": 11,
   "id": "9db4afd0-144c-4146-bea2-a7023c448a30",
   "metadata": {},
   "outputs": [],
   "source": [
    "df = pd.read_csv(\"ToyotaCorolla.csv\")"
   ]
  },
  {
   "cell_type": "code",
   "execution_count": 12,
   "id": "0d720fd7-ae8d-416e-8b6b-f58639c72a35",
   "metadata": {},
   "outputs": [
    {
     "data": {
      "text/html": [
       "<div>\n",
       "<style scoped>\n",
       "    .dataframe tbody tr th:only-of-type {\n",
       "        vertical-align: middle;\n",
       "    }\n",
       "\n",
       "    .dataframe tbody tr th {\n",
       "        vertical-align: top;\n",
       "    }\n",
       "\n",
       "    .dataframe thead th {\n",
       "        text-align: right;\n",
       "    }\n",
       "</style>\n",
       "<table border=\"1\" class=\"dataframe\">\n",
       "  <thead>\n",
       "    <tr style=\"text-align: right;\">\n",
       "      <th></th>\n",
       "      <th>Price</th>\n",
       "      <th>Age_08_04</th>\n",
       "      <th>KM</th>\n",
       "      <th>Fuel_Type</th>\n",
       "      <th>HP</th>\n",
       "      <th>Automatic</th>\n",
       "      <th>cc</th>\n",
       "      <th>Doors</th>\n",
       "      <th>Cylinders</th>\n",
       "      <th>Gears</th>\n",
       "      <th>Weight</th>\n",
       "    </tr>\n",
       "  </thead>\n",
       "  <tbody>\n",
       "    <tr>\n",
       "      <th>0</th>\n",
       "      <td>13500</td>\n",
       "      <td>23</td>\n",
       "      <td>46986</td>\n",
       "      <td>Diesel</td>\n",
       "      <td>90</td>\n",
       "      <td>0</td>\n",
       "      <td>2000</td>\n",
       "      <td>3</td>\n",
       "      <td>4</td>\n",
       "      <td>5</td>\n",
       "      <td>1165</td>\n",
       "    </tr>\n",
       "    <tr>\n",
       "      <th>1</th>\n",
       "      <td>13750</td>\n",
       "      <td>23</td>\n",
       "      <td>72937</td>\n",
       "      <td>Diesel</td>\n",
       "      <td>90</td>\n",
       "      <td>0</td>\n",
       "      <td>2000</td>\n",
       "      <td>3</td>\n",
       "      <td>4</td>\n",
       "      <td>5</td>\n",
       "      <td>1165</td>\n",
       "    </tr>\n",
       "    <tr>\n",
       "      <th>2</th>\n",
       "      <td>13950</td>\n",
       "      <td>24</td>\n",
       "      <td>41711</td>\n",
       "      <td>Diesel</td>\n",
       "      <td>90</td>\n",
       "      <td>0</td>\n",
       "      <td>2000</td>\n",
       "      <td>3</td>\n",
       "      <td>4</td>\n",
       "      <td>5</td>\n",
       "      <td>1165</td>\n",
       "    </tr>\n",
       "    <tr>\n",
       "      <th>3</th>\n",
       "      <td>14950</td>\n",
       "      <td>26</td>\n",
       "      <td>48000</td>\n",
       "      <td>Diesel</td>\n",
       "      <td>90</td>\n",
       "      <td>0</td>\n",
       "      <td>2000</td>\n",
       "      <td>3</td>\n",
       "      <td>4</td>\n",
       "      <td>5</td>\n",
       "      <td>1165</td>\n",
       "    </tr>\n",
       "    <tr>\n",
       "      <th>4</th>\n",
       "      <td>13750</td>\n",
       "      <td>30</td>\n",
       "      <td>38500</td>\n",
       "      <td>Diesel</td>\n",
       "      <td>90</td>\n",
       "      <td>0</td>\n",
       "      <td>2000</td>\n",
       "      <td>3</td>\n",
       "      <td>4</td>\n",
       "      <td>5</td>\n",
       "      <td>1170</td>\n",
       "    </tr>\n",
       "  </tbody>\n",
       "</table>\n",
       "</div>"
      ],
      "text/plain": [
       "   Price  Age_08_04     KM Fuel_Type  HP  Automatic    cc  Doors  Cylinders  \\\n",
       "0  13500         23  46986    Diesel  90          0  2000      3          4   \n",
       "1  13750         23  72937    Diesel  90          0  2000      3          4   \n",
       "2  13950         24  41711    Diesel  90          0  2000      3          4   \n",
       "3  14950         26  48000    Diesel  90          0  2000      3          4   \n",
       "4  13750         30  38500    Diesel  90          0  2000      3          4   \n",
       "\n",
       "   Gears  Weight  \n",
       "0      5    1165  \n",
       "1      5    1165  \n",
       "2      5    1165  \n",
       "3      5    1165  \n",
       "4      5    1170  "
      ]
     },
     "execution_count": 12,
     "metadata": {},
     "output_type": "execute_result"
    }
   ],
   "source": [
    "df.head()"
   ]
  },
  {
   "cell_type": "code",
   "execution_count": 13,
   "id": "67ae6797-35fe-4ea5-9dfa-b79a4f921abb",
   "metadata": {},
   "outputs": [
    {
     "data": {
      "text/plain": [
       "(1436, 11)"
      ]
     },
     "execution_count": 13,
     "metadata": {},
     "output_type": "execute_result"
    }
   ],
   "source": [
    "df.shape"
   ]
  },
  {
   "cell_type": "code",
   "execution_count": 14,
   "id": "dd86d5d5-42b6-4496-bda4-3861474f1550",
   "metadata": {},
   "outputs": [
    {
     "data": {
      "text/plain": [
       "Price         int64\n",
       "Age_08_04     int64\n",
       "KM            int64\n",
       "Fuel_Type    object\n",
       "HP            int64\n",
       "Automatic     int64\n",
       "cc            int64\n",
       "Doors         int64\n",
       "Cylinders     int64\n",
       "Gears         int64\n",
       "Weight        int64\n",
       "dtype: object"
      ]
     },
     "execution_count": 14,
     "metadata": {},
     "output_type": "execute_result"
    }
   ],
   "source": [
    "df.dtypes"
   ]
  },
  {
   "cell_type": "code",
   "execution_count": 15,
   "id": "655772d3-ec31-4613-8a36-49eff7216c13",
   "metadata": {},
   "outputs": [
    {
     "data": {
      "text/plain": [
       "Price        0\n",
       "Age_08_04    0\n",
       "KM           0\n",
       "Fuel_Type    0\n",
       "HP           0\n",
       "Automatic    0\n",
       "cc           0\n",
       "Doors        0\n",
       "Cylinders    0\n",
       "Gears        0\n",
       "Weight       0\n",
       "dtype: int64"
      ]
     },
     "execution_count": 15,
     "metadata": {},
     "output_type": "execute_result"
    }
   ],
   "source": [
    "df.isna().sum()"
   ]
  },
  {
   "cell_type": "code",
   "execution_count": 16,
   "id": "ab7139c1-fb6f-47b0-a36e-6d783a0c7d5b",
   "metadata": {},
   "outputs": [],
   "source": [
    "# As i encountered Fuel_Type as object , so converting that into float for correlation \n",
    "from sklearn.preprocessing import OrdinalEncoder\n",
    "\n",
    "ordinal_encoder = OrdinalEncoder()\n",
    "df[['Fuel_Type']] = ordinal_encoder.fit_transform(df[['Fuel_Type']])"
   ]
  },
  {
   "cell_type": "code",
   "execution_count": 17,
   "id": "65a8c78f-9012-4b49-839c-b682cfabe3df",
   "metadata": {},
   "outputs": [
    {
     "data": {
      "text/plain": [
       "Price          int64\n",
       "Age_08_04      int64\n",
       "KM             int64\n",
       "Fuel_Type    float64\n",
       "HP             int64\n",
       "Automatic      int64\n",
       "cc             int64\n",
       "Doors          int64\n",
       "Cylinders      int64\n",
       "Gears          int64\n",
       "Weight         int64\n",
       "dtype: object"
      ]
     },
     "execution_count": 17,
     "metadata": {},
     "output_type": "execute_result"
    }
   ],
   "source": [
    "df.dtypes"
   ]
  },
  {
   "cell_type": "markdown",
   "id": "44b88937-f9c6-4e3a-a56e-9863aac32c87",
   "metadata": {},
   "source": [
    "### Summary statistics and visualizations"
   ]
  },
  {
   "cell_type": "code",
   "execution_count": null,
   "id": "3758710f-c991-47a0-a321-8d701b9f4550",
   "metadata": {},
   "outputs": [
    {
     "name": "stdout",
     "output_type": "stream",
     "text": [
      "              Price    Age_08_04             KM    Fuel_Type           HP  \\\n",
      "count   1436.000000  1436.000000    1436.000000  1436.000000  1436.000000   \n",
      "mean   10730.824513    55.947075   68533.259749     1.868384   101.502089   \n",
      "std     3626.964585    18.599988   37506.448872     0.371572    14.981080   \n",
      "min     4350.000000     1.000000       1.000000     0.000000    69.000000   \n",
      "25%     8450.000000    44.000000   43000.000000     2.000000    90.000000   \n",
      "50%     9900.000000    61.000000   63389.500000     2.000000   110.000000   \n",
      "75%    11950.000000    70.000000   87020.750000     2.000000   110.000000   \n",
      "max    32500.000000    80.000000  243000.000000     2.000000   192.000000   \n",
      "\n",
      "         Automatic           cc        Doors  Cylinders        Gears  \\\n",
      "count  1436.000000   1436.00000  1436.000000     1436.0  1436.000000   \n",
      "mean      0.055710   1576.85585     4.033426        4.0     5.026462   \n",
      "std       0.229441    424.38677     0.952677        0.0     0.188510   \n",
      "min       0.000000   1300.00000     2.000000        4.0     3.000000   \n",
      "25%       0.000000   1400.00000     3.000000        4.0     5.000000   \n",
      "50%       0.000000   1600.00000     4.000000        4.0     5.000000   \n",
      "75%       0.000000   1600.00000     5.000000        4.0     5.000000   \n",
      "max       1.000000  16000.00000     5.000000        4.0     6.000000   \n",
      "\n",
      "           Weight  \n",
      "count  1436.00000  \n",
      "mean   1072.45961  \n",
      "std      52.64112  \n",
      "min    1000.00000  \n",
      "25%    1040.00000  \n",
      "50%    1070.00000  \n",
      "75%    1085.00000  \n",
      "max    1615.00000  \n"
     ]
    }
   ],
   "source": [
    "\n",
    "print(df.describe())\n",
    "\n",
    "# Correlation matrix\n",
    "corr_matrix = df.corr()\n",
    "sns.heatmap(corr_matrix, annot=True, cmap='coolwarm', square=True)\n",
    "plt.show()\n",
    "\n",
    "# Histograms for numerical variables\n",
    "df.hist(bins=50, figsize=(10,15))\n",
    "plt.show()"
   ]
  },
  {
   "cell_type": "markdown",
   "id": "212fb6f7-ddb4-4929-b856-4b6acd35f835",
   "metadata": {},
   "source": [
    "### Pre-processing for MLR"
   ]
  },
  {
   "cell_type": "code",
   "execution_count": 21,
   "id": "f5391503-0de7-4a4e-a18b-1516605376ab",
   "metadata": {},
   "outputs": [],
   "source": [
    "# Checking for null values again ,if any missing values still present, replace with \"Mean'\n",
    "df.fillna(df.mean(), inplace=True)\n",
    "\n"
   ]
  },
  {
   "cell_type": "code",
   "execution_count": 22,
   "id": "fa91c3a2-854f-479d-b5cf-49f18fe5111f",
   "metadata": {},
   "outputs": [
    {
     "data": {
      "text/html": [
       "<div>\n",
       "<style scoped>\n",
       "    .dataframe tbody tr th:only-of-type {\n",
       "        vertical-align: middle;\n",
       "    }\n",
       "\n",
       "    .dataframe tbody tr th {\n",
       "        vertical-align: top;\n",
       "    }\n",
       "\n",
       "    .dataframe thead th {\n",
       "        text-align: right;\n",
       "    }\n",
       "</style>\n",
       "<table border=\"1\" class=\"dataframe\">\n",
       "  <thead>\n",
       "    <tr style=\"text-align: right;\">\n",
       "      <th></th>\n",
       "      <th>Price</th>\n",
       "      <th>Age_08_04</th>\n",
       "      <th>KM</th>\n",
       "      <th>Fuel_Type</th>\n",
       "      <th>HP</th>\n",
       "      <th>Automatic</th>\n",
       "      <th>cc</th>\n",
       "      <th>Doors</th>\n",
       "      <th>Cylinders</th>\n",
       "      <th>Gears</th>\n",
       "      <th>Weight</th>\n",
       "    </tr>\n",
       "  </thead>\n",
       "  <tbody>\n",
       "    <tr>\n",
       "      <th>count</th>\n",
       "      <td>1436.000000</td>\n",
       "      <td>1436.000000</td>\n",
       "      <td>1436.000000</td>\n",
       "      <td>1436.000000</td>\n",
       "      <td>1436.000000</td>\n",
       "      <td>1436.000000</td>\n",
       "      <td>1436.00000</td>\n",
       "      <td>1436.000000</td>\n",
       "      <td>1436.0</td>\n",
       "      <td>1436.000000</td>\n",
       "      <td>1436.00000</td>\n",
       "    </tr>\n",
       "    <tr>\n",
       "      <th>mean</th>\n",
       "      <td>10730.824513</td>\n",
       "      <td>55.947075</td>\n",
       "      <td>68533.259749</td>\n",
       "      <td>1.868384</td>\n",
       "      <td>101.502089</td>\n",
       "      <td>0.055710</td>\n",
       "      <td>1576.85585</td>\n",
       "      <td>4.033426</td>\n",
       "      <td>4.0</td>\n",
       "      <td>5.026462</td>\n",
       "      <td>1072.45961</td>\n",
       "    </tr>\n",
       "    <tr>\n",
       "      <th>std</th>\n",
       "      <td>3626.964585</td>\n",
       "      <td>18.599988</td>\n",
       "      <td>37506.448872</td>\n",
       "      <td>0.371572</td>\n",
       "      <td>14.981080</td>\n",
       "      <td>0.229441</td>\n",
       "      <td>424.38677</td>\n",
       "      <td>0.952677</td>\n",
       "      <td>0.0</td>\n",
       "      <td>0.188510</td>\n",
       "      <td>52.64112</td>\n",
       "    </tr>\n",
       "    <tr>\n",
       "      <th>min</th>\n",
       "      <td>4350.000000</td>\n",
       "      <td>1.000000</td>\n",
       "      <td>1.000000</td>\n",
       "      <td>0.000000</td>\n",
       "      <td>69.000000</td>\n",
       "      <td>0.000000</td>\n",
       "      <td>1300.00000</td>\n",
       "      <td>2.000000</td>\n",
       "      <td>4.0</td>\n",
       "      <td>3.000000</td>\n",
       "      <td>1000.00000</td>\n",
       "    </tr>\n",
       "    <tr>\n",
       "      <th>25%</th>\n",
       "      <td>8450.000000</td>\n",
       "      <td>44.000000</td>\n",
       "      <td>43000.000000</td>\n",
       "      <td>2.000000</td>\n",
       "      <td>90.000000</td>\n",
       "      <td>0.000000</td>\n",
       "      <td>1400.00000</td>\n",
       "      <td>3.000000</td>\n",
       "      <td>4.0</td>\n",
       "      <td>5.000000</td>\n",
       "      <td>1040.00000</td>\n",
       "    </tr>\n",
       "    <tr>\n",
       "      <th>50%</th>\n",
       "      <td>9900.000000</td>\n",
       "      <td>61.000000</td>\n",
       "      <td>63389.500000</td>\n",
       "      <td>2.000000</td>\n",
       "      <td>110.000000</td>\n",
       "      <td>0.000000</td>\n",
       "      <td>1600.00000</td>\n",
       "      <td>4.000000</td>\n",
       "      <td>4.0</td>\n",
       "      <td>5.000000</td>\n",
       "      <td>1070.00000</td>\n",
       "    </tr>\n",
       "    <tr>\n",
       "      <th>75%</th>\n",
       "      <td>11950.000000</td>\n",
       "      <td>70.000000</td>\n",
       "      <td>87020.750000</td>\n",
       "      <td>2.000000</td>\n",
       "      <td>110.000000</td>\n",
       "      <td>0.000000</td>\n",
       "      <td>1600.00000</td>\n",
       "      <td>5.000000</td>\n",
       "      <td>4.0</td>\n",
       "      <td>5.000000</td>\n",
       "      <td>1085.00000</td>\n",
       "    </tr>\n",
       "    <tr>\n",
       "      <th>max</th>\n",
       "      <td>32500.000000</td>\n",
       "      <td>80.000000</td>\n",
       "      <td>243000.000000</td>\n",
       "      <td>2.000000</td>\n",
       "      <td>192.000000</td>\n",
       "      <td>1.000000</td>\n",
       "      <td>16000.00000</td>\n",
       "      <td>5.000000</td>\n",
       "      <td>4.0</td>\n",
       "      <td>6.000000</td>\n",
       "      <td>1615.00000</td>\n",
       "    </tr>\n",
       "  </tbody>\n",
       "</table>\n",
       "</div>"
      ],
      "text/plain": [
       "              Price    Age_08_04             KM    Fuel_Type           HP  \\\n",
       "count   1436.000000  1436.000000    1436.000000  1436.000000  1436.000000   \n",
       "mean   10730.824513    55.947075   68533.259749     1.868384   101.502089   \n",
       "std     3626.964585    18.599988   37506.448872     0.371572    14.981080   \n",
       "min     4350.000000     1.000000       1.000000     0.000000    69.000000   \n",
       "25%     8450.000000    44.000000   43000.000000     2.000000    90.000000   \n",
       "50%     9900.000000    61.000000   63389.500000     2.000000   110.000000   \n",
       "75%    11950.000000    70.000000   87020.750000     2.000000   110.000000   \n",
       "max    32500.000000    80.000000  243000.000000     2.000000   192.000000   \n",
       "\n",
       "         Automatic           cc        Doors  Cylinders        Gears  \\\n",
       "count  1436.000000   1436.00000  1436.000000     1436.0  1436.000000   \n",
       "mean      0.055710   1576.85585     4.033426        4.0     5.026462   \n",
       "std       0.229441    424.38677     0.952677        0.0     0.188510   \n",
       "min       0.000000   1300.00000     2.000000        4.0     3.000000   \n",
       "25%       0.000000   1400.00000     3.000000        4.0     5.000000   \n",
       "50%       0.000000   1600.00000     4.000000        4.0     5.000000   \n",
       "75%       0.000000   1600.00000     5.000000        4.0     5.000000   \n",
       "max       1.000000  16000.00000     5.000000        4.0     6.000000   \n",
       "\n",
       "           Weight  \n",
       "count  1436.00000  \n",
       "mean   1072.45961  \n",
       "std      52.64112  \n",
       "min    1000.00000  \n",
       "25%    1040.00000  \n",
       "50%    1070.00000  \n",
       "75%    1085.00000  \n",
       "max    1615.00000  "
      ]
     },
     "execution_count": 22,
     "metadata": {},
     "output_type": "execute_result"
    }
   ],
   "source": [
    "df.describe()"
   ]
  },
  {
   "cell_type": "markdown",
   "id": "d7d8a629-d77b-436d-8150-82644fb04033",
   "metadata": {},
   "source": [
    "### Task 2 : # Split dataset into training and testing sets\n"
   ]
  },
  {
   "cell_type": "code",
   "execution_count": 24,
   "id": "534ffdfa-53da-4269-bb02-3aa0dfd93d84",
   "metadata": {},
   "outputs": [
    {
     "ename": "NameError",
     "evalue": "name 'train_test_split' is not defined",
     "output_type": "error",
     "traceback": [
      "\u001b[1;31m---------------------------------------------------------------------------\u001b[0m",
      "\u001b[1;31mNameError\u001b[0m                                 Traceback (most recent call last)",
      "Cell \u001b[1;32mIn[24], line 5\u001b[0m\n\u001b[0;32m      2\u001b[0m X \u001b[38;5;241m=\u001b[39m df\u001b[38;5;241m.\u001b[39mdrop(\u001b[38;5;124m'\u001b[39m\u001b[38;5;124mPrice\u001b[39m\u001b[38;5;124m'\u001b[39m, axis\u001b[38;5;241m=\u001b[39m\u001b[38;5;241m1\u001b[39m)\n\u001b[0;32m      3\u001b[0m y \u001b[38;5;241m=\u001b[39m df[\u001b[38;5;124m'\u001b[39m\u001b[38;5;124mPrice\u001b[39m\u001b[38;5;124m'\u001b[39m]\n\u001b[1;32m----> 5\u001b[0m X_train, X_test, y_train, y_test \u001b[38;5;241m=\u001b[39m train_test_split(X, y, test_size\u001b[38;5;241m=\u001b[39m\u001b[38;5;241m0.2\u001b[39m, random_state\u001b[38;5;241m=\u001b[39m\u001b[38;5;241m42\u001b[39m)\n",
      "\u001b[1;31mNameError\u001b[0m: name 'train_test_split' is not defined"
     ]
    }
   ],
   "source": [
    "# Split dataset into training and testing sets\n",
    "X = df.drop('Price', axis=1)\n",
    "y = df['Price']\n",
    "\n",
    "X_train, X_test, y_train, y_test = train_test_split(X, y, test_size=0.2, random_state=42)"
   ]
  },
  {
   "cell_type": "markdown",
   "id": "1d6a862f-a418-403c-8a0c-87a3770004e0",
   "metadata": {},
   "source": [
    "### Task 3: Build multiple linear regression models"
   ]
  },
  {
   "cell_type": "code",
   "execution_count": null,
   "id": "e0b0b492-4744-46e0-94d6-fe5894522ce5",
   "metadata": {},
   "outputs": [],
   "source": [
    "# Create and fit model\n",
    "model1 = LinearRegression()\n",
    "model1.fit(X_train, y_train)\n",
    "\n",
    "# Print coefficients\n",
    "print(\"Model 1 Coefficients:\", model1.coef_)"
   ]
  },
  {
   "cell_type": "code",
   "execution_count": null,
   "id": "7f76c156-74cc-46ad-9266-9e7f0f0dbfbf",
   "metadata": {},
   "outputs": [],
   "source": []
  },
  {
   "cell_type": "code",
   "execution_count": null,
   "id": "d9497ce4-6976-41ad-899c-31dad2435631",
   "metadata": {},
   "outputs": [],
   "source": [
    "# Model 1: Simple Multiple Linear Regression\n",
    "model1 = LinearRegression()\n",
    "model1.fit(X_train, y_train)\n",
    "y_pred1 = model1.predict(X_test)\n",
    "print(\"Model 1 Coefficients:\", model1.coef_)\n",
    "print(\"Model 1 Intercept:\", model1.intercept_)\n",
    "print(\"Model 1 MSE:\", mean_squared_error(y_test, y_pred1))\n",
    "print(\"Model 1 R2:\", r2_score(y_test, y_pred1))"
   ]
  },
  {
   "cell_type": "code",
   "execution_count": null,
   "id": "d1a6d37e-5f0f-4c80-9670-2086ad47450a",
   "metadata": {},
   "outputs": [],
   "source": [
    "# Model 2: Multiple Linear Regression with Interaction Terms\n",
    "from sklearn.preprocessing import PolynomialFeatures\n",
    "poly_features = PolynomialFeatures(degree=2)\n",
    "X_train_poly = poly_features.fit_transform(X_train)\n",
    "model2 = LinearRegression()\n",
    "model2.fit(X_train_poly, y_train)\n",
    "y_pred2 = model2.predict(poly_features.transform(X_test))\n",
    "print(\"Model 2 Coefficients:\", model2.coef_)\n",
    "print(\"Model 2 Intercept:\", model2.intercept_)\n",
    "print(\"Model 2 MSE:\", mean_squared_error(y_test, y_pred2))\n",
    "print(\"Model 2 R2:\", r2_score(y_test, y_pred2))"
   ]
  },
  {
   "cell_type": "code",
   "execution_count": null,
   "id": "436b54e8-39e2-48b3-b69c-567251a8ea11",
   "metadata": {},
   "outputs": [],
   "source": [
    "# Model 3: Multiple Linear Regression with Polynomial Terms\n",
    "from sklearn.preprocessing import StandardScaler\n",
    "scaler = StandardScaler()\n",
    "X_train_scaled = scaler.fit_transform(X_train)\n",
    "model3 = LinearRegression()\n",
    "model3.fit(X_train_scaled, y_train)\n",
    "y_pred3 = model3.predict(scaler.transform(X_test))\n",
    "print(\"Model 3 Coefficients:\", model3.coef_)\n",
    "print(\"Model 3 Intercept:\", model3.intercept_)\n",
    "print(\"Model 3 MSE:\", mean_squared_error(y_test, y_pred3))\n",
    "print(\"Model 3 R2:\", r2_score(y_test, y_pred3))"
   ]
  },
  {
   "cell_type": "markdown",
   "id": "7eeb01c5-6e3d-4138-9621-4d23675e3f17",
   "metadata": {},
   "source": [
    "### Task 4 : Evalution of performance of the model using Evaluation metrix on dataset testing: "
   ]
  },
  {
   "cell_type": "markdown",
   "id": "f8bcde64-922a-4355-ab9b-2cb52f656e8c",
   "metadata": {},
   "source": [
    "\n",
    "\n",
    "\n"
   ]
  },
  {
   "cell_type": "code",
   "execution_count": null,
   "id": "f33361b4-2a88-44ca-a403-b525e371699c",
   "metadata": {},
   "outputs": [],
   "source": [
    "import pandas as pd\n",
    "from sklearn.model_selection import train_test_split\n",
    "from sklearn.linear_model import LinearRegression\n",
    "from sklearn.metrics import mean_squared_error, r2_score, mean_absolute_error, median_absolute_error\n",
    "from sklearn.preprocessing import PolynomialFeatures, StandardScaler"
   ]
  },
  {
   "cell_type": "code",
   "execution_count": null,
   "id": "5149ae79-e748-42db-b958-40cc8978f6ca",
   "metadata": {},
   "outputs": [],
   "source": [
    "print(\"Model 1 Metrics:\")\n",
    "print(\"MSE:\", mean_squared_error(y_test, y_pred1))\n",
    "print(\"RMSE:\", mean_squared_error(y_test, y_pred1)**0.5)\n",
    "print(\"MAE:\", mean_absolute_error(y_test, y_pred1))\n",
    "print(\"MedAE:\", median_absolute_error(y_test, y_pred1))\n",
    "print(\"R2:\", r2_score(y_test, y_pred1))"
   ]
  },
  {
   "cell_type": "code",
   "execution_count": null,
   "id": "7d225c09-fa82-4457-9965-95aa7a7ef310",
   "metadata": {},
   "outputs": [],
   "source": [
    "print(\"\\nModel 2 Metrics:\")\n",
    "print(\"MSE:\", mean_squared_error(y_test, y_pred2))\n",
    "print(\"RMSE:\", mean_squared_error(y_test, y_pred2)**0.5)\n",
    "print(\"MAE:\", mean_absolute_error(y_test, y_pred2))\n",
    "print(\"MedAE:\", median_absolute_error(y_test, y_pred2))\n",
    "print(\"R2:\", r2_score(y_test, y_pred2))"
   ]
  },
  {
   "cell_type": "code",
   "execution_count": null,
   "id": "2500e2f5-0dc7-4443-b940-36834da54e32",
   "metadata": {},
   "outputs": [],
   "source": [
    "print(\"\\nModel 3 Metrics:\")\n",
    "print(\"MSE:\", mean_squared_error(y_test, y_pred3))\n",
    "print(\"RMSE:\", mean_squared_error(y_test, y_pred3)**0.5)\n",
    "print(\"MAE:\", mean_absolute_error(y_test, y_pred3))\n",
    "print(\"MedAE:\", median_absolute_error(y_test, y_pred3))\n",
    "print(\"R2:\", r2_score(y_test, y_pred3))"
   ]
  },
  {
   "cell_type": "markdown",
   "id": "8cc3b8a3-369b-427b-b2b3-94119ffc429d",
   "metadata": {},
   "source": [
    "### Task 5 : LassoRegression :"
   ]
  },
  {
   "cell_type": "code",
   "execution_count": null,
   "id": "e50fda12-188d-49ee-9d27-f3c53665ee60",
   "metadata": {},
   "outputs": [],
   "source": [
    "from sklearn.linear_model import Lasso\n",
    "lasso_model = Lasso(alpha=0.1)\n",
    "lasso_model.fit(X_train, y_train)\n",
    "\n",
    "# Print coefficients\n",
    "print(\"Lasso Coefficients:\", lasso_model.coef_)\n"
   ]
  },
  {
   "cell_type": "markdown",
   "id": "d6f7c293-d6dd-4155-b371-7c1ed664c672",
   "metadata": {},
   "source": [
    "###  Ridge Regression "
   ]
  },
  {
   "cell_type": "code",
   "execution_count": null,
   "id": "3e427b0c-6889-4166-a7d8-1368e72be396",
   "metadata": {},
   "outputs": [],
   "source": [
    "from sklearn.linear_model import Ridge\n",
    "ridge_model = Ridge(alpha=0.1)\n",
    "ridge_model.fit(X_train, y_train)\n",
    "\n",
    "# Print coefficients\n",
    "print(\"Ridge Coefficients:\", ridge_model.coef_)\n"
   ]
  },
  {
   "cell_type": "markdown",
   "id": "a7ece09e-1723-49d0-8d74-02a3802762fa",
   "metadata": {},
   "source": [
    "### Conclusion and some of the assumptions and their implications related to the Multiple Linear Regression (MLR) model"
   ]
  },
  {
   "cell_type": "code",
   "execution_count": null,
   "id": "9269d0b5-83f3-4c67-9772-6bf11c75c221",
   "metadata": {},
   "outputs": [],
   "source": [
    "\n",
    "\n",
    "Assumptions:\n",
    "Linearity: The relationship between each independent variable and the dependent variable is linear.\n",
    "Implication: Non-linear relationships may not be captured accurately.\n",
    "Independence: Each observation is independent of the others.\n",
    "\n",
    "Implication: Violations may lead to inaccurate standard errors and hypothesis tests.\n",
    "Homoscedasticity: Constant variance of residuals across all levels of the independent variables.\n",
    "Implication: Non-constant variance may affect hypothesis tests and confidence intervals.\n",
    "\n",
    "Normality: Residuals follow a normal distribution.\n",
    "Implication: Non-normal residuals may affect hypothesis tests and confidence intervals.\n",
    "No multicollinearity: Independent variables are not highly correlated with each other.\n",
    "\n",
    "Implication: Multicollinearity can lead to unstable estimates and inflated variance.\n",
    "No autocorrelation: Residuals are not correlated with each other.\n",
    "\n",
    "Implications for our MLR model:\n",
    "Model interpretability: Assumptions affect the accuracy and reliability of model interpretations.\n",
    "Prediction accuracy: Violations can lead to poor predictive performance.\n",
    "Hypothesis testing: Assumptions affect the validity of hypothesis tests and confidence intervals.\n",
    "Mitigation strategies for our MLR model:\n",
    "Data transformation: Address non-linearity and non-normality.\n",
    "Variable selection: Reduce multicollinearity.\n",
    "Robust standard errors: Account for heteroscedasticity and autocorrelation.\n",
    "Influential outlier detection: Identify and address influential data points.\n",
    "Model validation: Verify assumptions and model performance using diagnostics and metrics."
   ]
  }
 ],
 "metadata": {
  "kernelspec": {
   "display_name": "Python 3 (ipykernel)",
   "language": "python",
   "name": "python3"
  },
  "language_info": {
   "codemirror_mode": {
    "name": "ipython",
    "version": 3
   },
   "file_extension": ".py",
   "mimetype": "text/x-python",
   "name": "python",
   "nbconvert_exporter": "python",
   "pygments_lexer": "ipython3",
   "version": "3.12.4"
  }
 },
 "nbformat": 4,
 "nbformat_minor": 5
}
