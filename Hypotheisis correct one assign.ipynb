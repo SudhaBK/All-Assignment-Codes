{
 "cells": [
  {
   "cell_type": "code",
   "execution_count": 3,
   "id": "2af2e247-9eea-45af-b442-b7dea7acc257",
   "metadata": {},
   "outputs": [],
   "source": [
    "import pandas as pd\n",
    "import numpy as np\n",
    "import scipy \n",
    "from scipy import stats"
   ]
  },
  {
   "cell_type": "code",
   "execution_count": 11,
   "id": "a642b402-5dcb-4d24-98fe-908bbfe9cfd7",
   "metadata": {},
   "outputs": [
    {
     "name": "stdout",
     "output_type": "stream",
     "text": [
      "-38.0\n"
     ]
    }
   ],
   "source": [
    "z_type2=(3050-4000)/(125/np.sqrt(25))\n",
    "X_bar = 3050\n",
    "mu = 4000\n",
    "sigma = 125\n",
    "n = 25\n",
    "print(z_type2) # Z-Test or Z-score "
   ]
  },
  {
   "cell_type": "code",
   "execution_count": 19,
   "id": "ad59c79a-5e1e-4bc3-9cd8-cb01efdd19d2",
   "metadata": {},
   "outputs": [],
   "source": [
    "from scipy import stats as t"
   ]
  },
  {
   "cell_type": "code",
   "execution_count": 21,
   "id": "2290763d-1bc5-4c2d-bae8-97f33cf801af",
   "metadata": {},
   "outputs": [
    {
     "name": "stdout",
     "output_type": "stream",
     "text": [
      "P-value: 2.0\n"
     ]
    }
   ],
   "source": [
    "p_value = 2 * (1 - t.norm.cdf(z_type2))\n",
    "\n",
    "print(\"P-value:\", p_value)"
   ]
  },
  {
   "cell_type": "code",
   "execution_count": 26,
   "id": "71850f19-b6ae-4226-8029-e58545ef014a",
   "metadata": {},
   "outputs": [
    {
     "data": {
      "text/plain": [
       "1.6448536269514722"
      ]
     },
     "execution_count": 26,
     "metadata": {},
     "output_type": "execute_result"
    }
   ],
   "source": [
    "alpha = 0.05 # significance level of 5%\n",
    "\n",
    "critical_z_value = t.norm.ppf(1 - alpha)  # (Right) one-tailed test at 5% significance level\n",
    "critical_z_value"
   ]
  },
  {
   "cell_type": "markdown",
   "id": "fc6dcedc-3aee-4b9b-8510-3c269cb4b9a4",
   "metadata": {},
   "source": [
    "The p-value will be extremely small (approximately 0).\n",
    "CONCLUSION :\n",
    "Based on the comparison and p-value, we reject the null hypothesis.\n",
    "INTERPRETATION :\n",
    "The observed result is statistically significant, indicating strong evidence against the null hypothesis. The large difference between the calculated and critical Z-scores suggests that the observed effect is highly unlikely to occur by chance."
   ]
  }
 ],
 "metadata": {
  "kernelspec": {
   "display_name": "Python 3 (ipykernel)",
   "language": "python",
   "name": "python3"
  },
  "language_info": {
   "codemirror_mode": {
    "name": "ipython",
    "version": 3
   },
   "file_extension": ".py",
   "mimetype": "text/x-python",
   "name": "python",
   "nbconvert_exporter": "python",
   "pygments_lexer": "ipython3",
   "version": "3.12.4"
  }
 },
 "nbformat": 4,
 "nbformat_minor": 5
}
